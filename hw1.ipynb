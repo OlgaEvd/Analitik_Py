{
 "cells": [
  {
   "cell_type": "markdown",
   "id": "95cb025d",
   "metadata": {},
   "source": [
    "## Задание 1:\n",
    "Номер задачи - заголовок 2\n",
    "\n",
    "Номер подзадачи - заголовок 3\n",
    "\n",
    "Предоставленные наборы данных оформляйте, как код\n",
    "\n"
   ]
  },
  {
   "cell_type": "markdown",
   "id": "d98ca78e",
   "metadata": {},
   "source": [
    "## Задание 2"
   ]
  },
  {
   "cell_type": "markdown",
   "id": "46352355",
   "metadata": {},
   "source": [
    "На складе лежат разные фрукты в разном количестве.\n",
    "\n",
    "Нужно написать функцию, которая на вход принимает любое количество названий фруктов и их количество, а возвращает общее количество фруктов на складе"
   ]
  },
  {
   "cell_type": "code",
   "execution_count": 6,
   "id": "9a10cd57",
   "metadata": {},
   "outputs": [],
   "source": [
    "def fruits(**kwargs):\n",
    "    \n",
    "    sum_fruits = sum(kwargs.values())\n",
    "    \n",
    "    return f'Всего фруктов: {sum_fruits}'"
   ]
  },
  {
   "cell_type": "code",
   "execution_count": 11,
   "id": "46dc85f8",
   "metadata": {},
   "outputs": [
    {
     "name": "stdout",
     "output_type": "stream",
     "text": [
      "Всего фруктов: 85\n"
     ]
    }
   ],
   "source": [
    "print(fruits(яблоки=20, груши=25, бананы=25, нектарин=5, киви=10))"
   ]
  },
  {
   "cell_type": "markdown",
   "id": "95987947",
   "metadata": {},
   "source": [
    "## Задание 3"
   ]
  },
  {
   "cell_type": "markdown",
   "id": "cfe1c232",
   "metadata": {},
   "source": [
    "Дан список с затратами на рекламу.\n",
    "\n",
    "Но в данных есть ошибки, некоторые затраты имеют отрицательную величину. \n",
    "\n",
    "Удалите такие значения из списка и посчитайте суммарные затраты"
   ]
  },
  {
   "cell_type": "code",
   "execution_count": 12,
   "id": "79a3846f",
   "metadata": {},
   "outputs": [
    {
     "data": {
      "text/plain": [
       "[100, 125, -90, 345, 655, -1, 0, 200]"
      ]
     },
     "execution_count": 12,
     "metadata": {},
     "output_type": "execute_result"
    }
   ],
   "source": [
    "[100, 125, -90, 345, 655, -1, 0, 200]"
   ]
  },
  {
   "cell_type": "code",
   "execution_count": 22,
   "id": "f168469b",
   "metadata": {},
   "outputs": [],
   "source": [
    "def market(data: list):\n",
    "    \n",
    "    new_data = []\n",
    "    \n",
    "    for i in data:\n",
    "        if i > 0:\n",
    "            new_data.append(i)\n",
    "            \n",
    "    print(f'Расходы на рекламу:{new_data}')\n",
    "    print(f'Общие затраты на рекламу: {sum(new_data)}')"
   ]
  },
  {
   "cell_type": "code",
   "execution_count": 23,
   "id": "5ab6e251",
   "metadata": {},
   "outputs": [
    {
     "name": "stdout",
     "output_type": "stream",
     "text": [
      "Расходы на рекламу:[100, 125, 345, 655, 200]\n",
      "Общие затраты на рекламу: 1425\n"
     ]
    }
   ],
   "source": [
    "data = [100, 125, -90, 345, 655, -1, 0, 200]\n",
    "\n",
    "market(data)"
   ]
  },
  {
   "cell_type": "markdown",
   "id": "6a0eb902",
   "metadata": {},
   "source": [
    "## Задание 4"
   ]
  },
  {
   "cell_type": "markdown",
   "id": "1fbbfcfb",
   "metadata": {},
   "source": [
    "### Задание 4.1\n",
    "Найдите, какая выручка у компании в ноябре\n",
    "Используйте list comprehensions"
   ]
  },
  {
   "cell_type": "markdown",
   "id": "994f6a89",
   "metadata": {},
   "source": [
    "Даны два списка."
   ]
  },
  {
   "cell_type": "markdown",
   "id": "58d0c6d0",
   "metadata": {},
   "source": [
    "Дата покупки:"
   ]
  },
  {
   "cell_type": "code",
   "execution_count": 16,
   "id": "677838a6",
   "metadata": {},
   "outputs": [],
   "source": [
    "date =['2021-09-14', '2021-12-15', '2021-09-08', '2021-12-05', '2021-10-09', '2021-09-30', '2021-12-22',\n",
    "        '2021-11-29', '2021-12-24', '2021-11-26', '2021-10-27', '2021-12-18', '2021-11-09', '2021-11-23', \n",
    "        '2021-09-27', '2021-10-02', '2021-12-27', '2021-09-20', '2021-12-13', '2021-11-01', '2021-11-09', \n",
    "        '2021-12-06', '2021-12-08', '2021-10-09', '2021-10-31', '2021-09-30', '2021-11-09', '2021-12-13', \n",
    "        '2021-10-26', '2021-12-09']"
   ]
  },
  {
   "cell_type": "markdown",
   "id": "f99eaba0",
   "metadata": {},
   "source": [
    "Суммы покупок по датам:"
   ]
  },
  {
   "cell_type": "code",
   "execution_count": 17,
   "id": "7d4bfa3c",
   "metadata": {},
   "outputs": [],
   "source": [
    "summa =[1270, 8413, 9028, 3703, 5739, 4095, 295, \n",
    "        4944, 5723, 3701, 4471, 651, 7037, 4274, \n",
    "        6275, 4988, 6930, 2971, 6592, 2004, 2822, \n",
    "        519, 3406, 2732, 5015, 2008, 316, 6333, \n",
    "        5700, 2887]"
   ]
  },
  {
   "cell_type": "markdown",
   "id": "8d48f8d2",
   "metadata": {},
   "source": [
    "Вариант 1"
   ]
  },
  {
   "cell_type": "code",
   "execution_count": 21,
   "id": "fde44a44",
   "metadata": {},
   "outputs": [
    {
     "name": "stdout",
     "output_type": "stream",
     "text": [
      "Выручка ноября: 25098\n"
     ]
    }
   ],
   "source": [
    "print(f'Выручка ноября: {sum ([summa[i] for i in range(len(date)) if date[i].split(\"-\")[1]==\"11\"])}')"
   ]
  },
  {
   "cell_type": "markdown",
   "id": "36579631",
   "metadata": {},
   "source": [
    "Вариант 2"
   ]
  },
  {
   "cell_type": "code",
   "execution_count": 5,
   "id": "8edff99a",
   "metadata": {},
   "outputs": [],
   "source": [
    "def november(date: list, summa: list) -> list:\n",
    "    \n",
    "    new_data = []\n",
    "    \n",
    "    for i in range(len(date)-1):\n",
    "        if '-11-' in date[i]:\n",
    "            new_data.append(summa[i])\n",
    "            \n",
    "    return new_data"
   ]
  },
  {
   "cell_type": "code",
   "execution_count": 6,
   "id": "b2509c18",
   "metadata": {
    "scrolled": true
   },
   "outputs": [
    {
     "name": "stdout",
     "output_type": "stream",
     "text": [
      "Суммы продаж в ноябре: [4944, 3701, 7037, 4274, 2004, 2822, 316]\n"
     ]
    }
   ],
   "source": [
    "print(f'Суммы продаж в ноябре: {november(date, summa)}')"
   ]
  },
  {
   "cell_type": "code",
   "execution_count": 7,
   "id": "090a9689",
   "metadata": {},
   "outputs": [
    {
     "name": "stdout",
     "output_type": "stream",
     "text": [
      "Выручка ноября:25098\n"
     ]
    }
   ],
   "source": [
    "print(f'Выручка ноября:{sum (november(date, summa))}')"
   ]
  },
  {
   "cell_type": "markdown",
   "id": "b47862ba",
   "metadata": {},
   "source": [
    "### Задание 4.2 Найдите выручку компании в зависимости от месяца\n",
    "Для этого напишите функцию, которая на вход принимает список с датами и список с выручкой, а на выходе словарь, где ключи - это месяцы, а значения - это выручка.\n",
    "Используйте аннотирование типов."
   ]
  },
  {
   "cell_type": "code",
   "execution_count": 27,
   "id": "f8f4e910",
   "metadata": {},
   "outputs": [
    {
     "name": "stdout",
     "output_type": "stream",
     "text": [
      "{'09': 25647, '12': 45452, '10': 28645, '11': 25098}\n"
     ]
    }
   ],
   "source": [
    "def benefit(list1: list, list2: list) -> dict:\n",
    "    \n",
    "    benefit = {}\n",
    "    \n",
    "    for i in range(len(list1)):\n",
    "        \n",
    "        if date[i].split('-')[1] in benefit.keys():\n",
    "            benefit[date[i].split('-')[1]] += summa[i]\n",
    "        else:\n",
    "            benefit[date[i].split('-')[1]] = summa[i]\n",
    "            \n",
    "    return benefit\n",
    "\n",
    "print(benefit(date, summa))"
   ]
  }
 ],
 "metadata": {
  "kernelspec": {
   "display_name": "Python 3 (ipykernel)",
   "language": "python",
   "name": "python3"
  },
  "language_info": {
   "codemirror_mode": {
    "name": "ipython",
    "version": 3
   },
   "file_extension": ".py",
   "mimetype": "text/x-python",
   "name": "python",
   "nbconvert_exporter": "python",
   "pygments_lexer": "ipython3",
   "version": "3.10.9"
  }
 },
 "nbformat": 4,
 "nbformat_minor": 5
}
